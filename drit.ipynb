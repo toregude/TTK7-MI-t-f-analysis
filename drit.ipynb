{
 "cells": [
  {
   "cell_type": "code",
   "execution_count": null,
   "metadata": {},
   "outputs": [],
   "source": [
    "import scipy.io\n",
    "\n",
    "def save_epochs_to_mat(epochs, name):\n",
    "    # Assuming 'epochs' is your MNE-Python Epochs object\n",
    "    epochs_data = epochs.get_data()  # Extract epoch data as a 3D array\n",
    "    events = epochs.events  # Event information\n",
    "    event_id = epochs.event_id  # Event ID mapping\n",
    "    times = epochs.times  # Time points\n",
    "\n",
    "    # Create a dictionary to store the data and information\n",
    "    mat_dict = {\n",
    "        'epochs_data': epochs_data,\n",
    "        'events': events,\n",
    "        'event_id': event_id,\n",
    "        'times': times\n",
    "    }\n",
    "\n",
    "    # Save to .mat file\n",
    "    scipy.io.savemat(f'{name}.mat', mat_dict)\n",
    "\n",
    "def save_evoked_to_mat(evoked, name):\n",
    "    # Assuming 'evoked' is your MNE-Python Evoked object (ERP)\n",
    "    evoked_data = evoked.data  # Extract ERP data as a 2D array\n",
    "    times = evoked.times  # Time points\n",
    "\n",
    "    # Create a dictionary to store the ERP data and time points\n",
    "    erp_dict = {\n",
    "        'evoked_data': evoked_data,\n",
    "        'times': times\n",
    "    }\n",
    "\n",
    "    # Save to .mat file\n",
    "    scipy.io.savemat(f'{name}.mat', erp_dict)\n",
    "\n"
   ]
  },
  {
   "cell_type": "code",
   "execution_count": null,
   "metadata": {},
   "outputs": [],
   "source": [
    "# Save to .mat file for MVMD analysis\n",
    "save_evoked_to_mat(erp_hands)\n",
    "save_evoked_to_mat(erp_feet)\n",
    "save_epochs_to_mat(epochs[\"right hand\"])\n",
    "save_epochs_to_mat(epochs[\"feet\"])"
   ]
  }
 ],
 "metadata": {
  "kernelspec": {
   "display_name": "Python 3.10.11 64-bit",
   "language": "python",
   "name": "python3"
  },
  "language_info": {
   "name": "python",
   "version": "3.10.11"
  },
  "orig_nbformat": 4,
  "vscode": {
   "interpreter": {
    "hash": "aee8b7b246df8f9039afb4144a1f6fd8d2ca17a180786b69acc140d282b71a49"
   }
  }
 },
 "nbformat": 4,
 "nbformat_minor": 2
}
